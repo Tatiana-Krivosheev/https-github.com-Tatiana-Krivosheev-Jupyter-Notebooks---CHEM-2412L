{
 "cells": [
  {
   "cell_type": "markdown",
   "metadata": {},
   "source": [
    "# Chem 2412L - Organic Chemistry Laboratory II\n",
    "### Aldehydes and Ketones"
   ]
  },
  {
   "cell_type": "markdown",
   "metadata": {},
   "source": [
    "#### Student Name: Blake Anderson\n",
    "#### Partner(s): Dr. Sheppard"
   ]
  },
  {
   "cell_type": "markdown",
   "metadata": {},
   "source": [
    "___"
   ]
  },
  {
   "cell_type": "markdown",
   "metadata": {},
   "source": [
    "## Pre-lab Questions"
   ]
  },
  {
   "cell_type": "markdown",
   "metadata": {},
   "source": [
    "1. Draw the reaction (including structures) of semicarbazide with acetophenone to form a  semicarbazone.\n",
    "\n",
    "2. Draw the structure of the products resulting from the reaction of basic KI/I2 reagent with 2-pentanone.\n"
   ]
  },
  {
   "cell_type": "markdown",
   "metadata": {},
   "source": [
    "## Procedure"
   ]
  },
  {
   "cell_type": "markdown",
   "metadata": {},
   "source": [
    "**2,4-Dinitrophenylhydrazones**\n",
    "\n",
    "Compounds to test: benzaldehyde, methyl ethyl ketone and your unknown\n",
    "\t\n",
    "Prepare a solution of 4 drops of the compound you are testing in 1 mL of ethanol. Add 1 mL of 2,4-dinitrophenylhydrazine reagent. Mix thoroughly and allow to stand. If no precipitate appears within 5 minutes, heat the solution in a hot water bath for 5 minutes and then allow it to cool to room temperature. \n",
    "\n",
    "**Semicarbazones**\n",
    "\n",
    "Compounds to test: benzaldehyde, methyl ethyl ketone and your unknown\n",
    "\n",
    "Dissolve 4 drops of the compound you are testing in 1 mL of ethanol. Add 0.10 g of semicarbazide hydrochloride and 0.15 g of sodium acetate in 2 mL of water. Mix thoroughly and warm the mixture for 5 minutes on a steam bath. Allow the mixture to stand until the product has crystallized well; it may be necessary to chill it in an ice bath.\n",
    "\n",
    "**Chromic acid reaction**\n",
    "\n",
    "Compounds to test: propanal (propionaldehyde), benzaldehyde, methyl ethyl ketone and your unknown\n",
    "\n",
    "Dissolve 1 drop of the compound you are testing in 1 mL of acetone. Add 1 drop of chromic acid reagent. Note the color of the solution. \n",
    "\n",
    "**Iodoform test**\n",
    "\n",
    "Compounds to test: methyl ethyl ketone and your unknown\n",
    "\n",
    "In a test tube, dissolve 3 drops of the compound you are testing in 1 mL of water. (If the compound you are testing is insoluble in water, add 1-2 mL of 1-propanol and warm the mixture.) Add 1 mL of 10% NaOH to the test tube. Add dropwise, with shaking, a solution of iodine in potassium iodide (~1 mL). Note the formation of any yellow precipitate (CHI3). If no precipitate appears within 5 minutes, warm the solution slightly. \n",
    "\n",
    "**IR spectrum**\n",
    "\n",
    "Record the IR spectrum of your unknown. \n",
    "\n",
    "Dispose of all waste from this experiment in the appropriate waste containers as directed by your instructor.\n"
   ]
  },
  {
   "cell_type": "markdown",
   "metadata": {},
   "source": [
    "## Report Sheet"
   ]
  },
  {
   "cell_type": "markdown",
   "metadata": {},
   "source": [
    "#### I. Data and Observations"
   ]
  },
  {
   "cell_type": "markdown",
   "metadata": {},
   "source": [
    "Unknown number:\n",
    "\n",
    "**2,4-Dinitrophenylhydrazones**  \n",
    "\n",
    "|                    |Observations|\n",
    "|:-:                 |:-:|\n",
    "|benzaldehyde        ||\n",
    "|methyl ethyl ketone ||\n",
    "|unknown             ||\n",
    "\n",
    "\n",
    "**Semicarbazones**\n",
    "\n",
    "|                    |Observations|\n",
    "|:-:                 |:-:|\n",
    "|benzaldehyde        ||\n",
    "|methyl ethyl ketone ||\n",
    "|unknown             ||\n",
    "\n",
    "\n",
    "**Chromic acid reagent**\n",
    "\n",
    "|                    |Observations|\n",
    "|:-:                 |:-:|\n",
    "|propanol            ||\n",
    "|benzaldehyde        ||\n",
    "|ethyl ketone        ||\n",
    "|unknown             ||\n",
    "\n",
    "\n",
    "**Iodoform Test**\n",
    "\n",
    "|                    |Observations|\n",
    "|:-:                 |:-:|\n",
    "|methyl ethyl ketone ||\n",
    "|unknown             ||"
   ]
  },
  {
   "cell_type": "markdown",
   "metadata": {},
   "source": [
    "#### II.Data Analysis"
   ]
  },
  {
   "cell_type": "markdown",
   "metadata": {},
   "source": [
    "1. Attach a copy of your IR spectrum to this report. Identify as many peaks as possible in the spectrum.\n",
    "\n",
    "2. Identify the functional group present in your unknown. Explain how you came to this conclusion using your observations and spectroscopic data.\n"
   ]
  },
  {
   "cell_type": "markdown",
   "metadata": {},
   "source": [
    "#### III. Questions"
   ]
  },
  {
   "cell_type": "markdown",
   "metadata": {},
   "source": [
    "1. Draw the reaction (including structures) of benzaldehyde and 2,4-DNP.\n",
    "\n",
    "2.\tDraw the reaction (including structures) for the oxidation of benzaldehyde with CrO3.\n",
    "\n",
    "3.\tHow would you distinguish between the following pairs by simple chemical tests? Describe what reagent you would use and what you would observe.\n",
    "    1. pentanal and 2-pentanone\n",
    "\n",
    "    2. 2-pentanone and 3-pentanone\n",
    "\n",
    "    3. pentanal and 1-pentanol\n",
    "\n",
    "4.\tHow would you distinguish between the following pairs by use of IR spectroscopy only? Describe what absorption would be present or absent in each case.\n",
    "    1. pentanal and 2-pentanone\n",
    "\n",
    "    2. benzophenone and 3-pentanone\n",
    "\n",
    "    3. pentanal and 1-pentanol\n"
   ]
  },
  {
   "cell_type": "code",
   "execution_count": null,
   "metadata": {
    "collapsed": true
   },
   "outputs": [],
   "source": []
  }
 ],
 "metadata": {
  "kernelspec": {
   "display_name": "Python 3",
   "language": "python",
   "name": "python3"
  },
  "language_info": {
   "codemirror_mode": {
    "name": "ipython",
    "version": 3
   },
   "file_extension": ".py",
   "mimetype": "text/x-python",
   "name": "python",
   "nbconvert_exporter": "python",
   "pygments_lexer": "ipython3",
   "version": "3.4.3"
  }
 },
 "nbformat": 4,
 "nbformat_minor": 0
}
