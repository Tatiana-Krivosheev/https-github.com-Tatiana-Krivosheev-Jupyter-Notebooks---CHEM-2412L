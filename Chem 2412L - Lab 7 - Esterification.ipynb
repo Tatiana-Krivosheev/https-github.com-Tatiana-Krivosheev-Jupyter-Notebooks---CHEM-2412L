{
 "cells": [
  {
   "cell_type": "markdown",
   "metadata": {},
   "source": [
    "# Chem 2412L - Organic Chemistry Laboratory II\n",
    "### Esterification"
   ]
  },
  {
   "cell_type": "markdown",
   "metadata": {},
   "source": [
    "#### Student Name: Blake Anderson\n",
    "#### Partner(s): Dr. Sheppard"
   ]
  },
  {
   "cell_type": "markdown",
   "metadata": {},
   "source": [
    "___"
   ]
  },
  {
   "cell_type": "markdown",
   "metadata": {},
   "source": [
    "## Pre-lab Questions"
   ]
  },
  {
   "cell_type": "markdown",
   "metadata": {},
   "source": [
    "1. Draw the reaction (including structures) for the acid catalyzed reaction of acetic acid with 1-octanol.  \n",
    "\n",
    "2. Explain what would happen if you were to add water to the reaction above.  Why is it that this occurs?\n"
   ]
  },
  {
   "cell_type": "markdown",
   "metadata": {},
   "source": [
    "## Procedures"
   ]
  },
  {
   "cell_type": "markdown",
   "metadata": {},
   "source": [
    "Obtain ten test tubes and be sure to clean and dry each before the experiment.  Place labels on each test tube numbering from 1 to 10, and place all of them in a wooden test tube holder.  Table (1) below gives the 8 combinations of a carboxylic acid and an alcohol that should be placed in eight of the test tubes.  Place 10 drops of a given liquid carboxylic acid (or approximately 0.1 grams if the carboxylic acid is a solid) and 10 drops of the corresponding alcohol to the given carboxylic acid/alcohol pair into each test tube.  Now out of the unknown pairs (A1, A2),       (B1, B2), and (C1, C2), you will need to pick two pairs to react in the final two test tubes.  For the unknown combinations, use the same procedure (placing 10 drops of each component of the combination into the test tubes).  "
   ]
  },
  {
   "cell_type": "markdown",
   "metadata": {},
   "source": [
    "<div style=\"text-align: center;\" markdown=\"1\">Table (1) </div>\n",
    "\n",
    "|Tube #|Carboxylic Acid           |Alcohol          |\n",
    "|:----:|:------------------------:|:---------------:|\n",
    "|  1   |Formic Acid               |Isobutyl Alcohol |\n",
    "|  2   |Acetic Acid(ethanoic acid)|Amyl (1-pentanol)|\n",
    "|  3   |Acetic Acid(ethanoic acid)|1 - octanol      |\n",
    "|  4   |Acetic Acid(ethanoic acid)|1 - propanol     |\n",
    "|  5   |Propanoic Acid            |Isobutyl Alcohol |\n",
    "|  6   |Cinnamic Acid             |Methanol         |\n",
    "|  7   |Cinnamic Acid             |Ethanol          |\n",
    "|  8   |Salicylic Acid            |Methanol         |"
   ]
  },
  {
   "cell_type": "markdown",
   "metadata": {},
   "source": [
    "Once all of the carboxylic acid/ester combinations have been placed into the test tubes you will need to add 5 drops of concentrated H<sub>2</sub>SO<sub>4</sub> to each test tube, making sure to mix thoroughly after the acid is added.  Place all 10 of the test tubes in a warm water bath and heat in the hood at a temperature of 40 – 60°C for approximately 15 minutes.\n",
    "___\n",
    "**Caution!!!** Concentrated acid can cause damage to skin and eyes!  Handle these chemicals carefully!  If spilled, dilute with water and neutralize with sodium bicarbonate solution.  Wear safety glasses in the laboratory at all times!\n",
    "___\n",
    "\n",
    "Once the test tubes have heated, remove each from the warm water bath and allow them to cool.  Add 2 mL of saturated sodium chloride solution to each of the tubes.  The layer on top of the aqueous layer should be the ester and you should be able to detect the odor of the ester by wafting.  The eight esters should have the scents of wintergreen mint, orange, pear, rum, raspberry, strawberry, banana, and cinnamon."
   ]
  },
  {
   "cell_type": "markdown",
   "metadata": {},
   "source": [
    "## Report Sheet"
   ]
  },
  {
   "cell_type": "markdown",
   "metadata": {},
   "source": [
    "#### I. Data and Observations"
   ]
  },
  {
   "cell_type": "markdown",
   "metadata": {},
   "source": [
    "|Tube #|Carboxylic Acid             |Alcohol         |Scent |\n",
    "|:----:|:--------------------------:|:--------------:|:----:|\n",
    "|  1   |Formic Acid (methanoic acid)|Isobutyl Alcohol||\n",
    "|  2   |Acetic Acid (ethanoic acid) |Amyl(1-pentanol)||\n",
    "|  3   |Acetic Acid (ethanoic acid) |1 - octanol     ||\n",
    "|  4   |Acetic Acid (ethanoic acid) |1 - propanol    ||\n",
    "|  5   |Propanoic Acid              |Isobutyl Alcohol||\n",
    "|  6   |Cinnamic Acid               |Methanol        ||\n",
    "|  7   |Cinnamic Acid               |Ethanol         ||\n",
    "|  8   |Salicylic Acid              |Methanol        ||\n",
    "|  9   |__-1|__-2||\n",
    "|  10  |__-1|__-2||"
   ]
  },
  {
   "cell_type": "markdown",
   "metadata": {},
   "source": [
    "Note any observations in color of each ester.\n",
    "\n",
    "|Tube #|Observations|\n",
    "|:----:|:----------:|\n",
    "|  1   ||\n",
    "|  2   ||\n",
    "|  3   ||\n",
    "|  4   ||\n",
    "|  5   ||\n",
    "|  6   ||\n",
    "|  7   ||\n",
    "|  8   ||\n",
    "|  9   ||\n",
    "|  10  ||\n"
   ]
  },
  {
   "cell_type": "markdown",
   "metadata": {},
   "source": [
    "Note which ester you think your unknowns are based strictly on physical appearance and scent\n",
    "\n",
    "|Tube #|Carboxylic Acid|Alcohol|Name of Ester|\n",
    "|:----:|:-------------:|:-----:|:-----------:|\n",
    "|  9   |__-1|__-2||\n",
    "|  10  |__-1|__-2||"
   ]
  },
  {
   "cell_type": "markdown",
   "metadata": {},
   "source": [
    "#### II. Reactions"
   ]
  },
  {
   "cell_type": "markdown",
   "metadata": {},
   "source": [
    "*(Draw the reactions taking place in each of the 8 known reactions in this experiment. You do not need to show a mechanism. Also provide the name of the ester produced for each of the 8 known reactions)*\n"
   ]
  },
  {
   "cell_type": "markdown",
   "metadata": {},
   "source": [
    "#### III. Data Analysis"
   ]
  },
  {
   "cell_type": "markdown",
   "metadata": {},
   "source": [
    "1. For the reaction in test tube **# 1** calculate the limiting reagent and the theoretical yield.  Assume that there are 20 drops in 1 mL. Show your work for full credit.\n",
    "\n",
    "2. Give the structures and names of 5 additional esters, not formed in this experiment, which could be produced from the carboxylic acids and alcohols used in this experiment.\n",
    "\n",
    "3. Match the experiments in test tubes 1, 4, and 5 with the <sup>1</sup>H-NMR spectra A, B, and C below.  For each <sup>1</sup>H-NMR spectrum label which sets of hydrogens in the structure corresponds to which signal in the spectrum. \n",
    "\n",
    "Insert Image\n",
    "\n",
    "Insert Image\n",
    "\n",
    "Insert Image\n"
   ]
  },
  {
   "cell_type": "markdown",
   "metadata": {},
   "source": [
    "#### IV.Questions"
   ]
  },
  {
   "cell_type": "markdown",
   "metadata": {},
   "source": [
    "1. Esterification is a highly reversible reaction.  Which fundamental principle in chemistry should be utilized to improve the yield of the ester?  Give two ways that this can be accomplished.\n",
    "\n",
    "2. We know that the esterification reaction is in equilibrium.  Does water participate in the equilibrium constant?  Back up your answer with an explanation. \n",
    "\n",
    "3. What is the purpose of using a saturated sodium chloride solution in this experiment?\n",
    "\n",
    "4. The esterification mechanism is given below.  Use this mechanism to explain the role of H2SO4 in the first step of the reaction.  \n",
    "\n",
    "Insert mechanism\n"
   ]
  },
  {
   "cell_type": "code",
   "execution_count": null,
   "metadata": {
    "collapsed": true
   },
   "outputs": [],
   "source": []
  }
 ],
 "metadata": {
  "kernelspec": {
   "display_name": "Python 3",
   "language": "python",
   "name": "python3"
  },
  "language_info": {
   "codemirror_mode": {
    "name": "ipython",
    "version": 3
   },
   "file_extension": ".py",
   "mimetype": "text/x-python",
   "name": "python",
   "nbconvert_exporter": "python",
   "pygments_lexer": "ipython3",
   "version": "3.4.3"
  }
 },
 "nbformat": 4,
 "nbformat_minor": 0
}
