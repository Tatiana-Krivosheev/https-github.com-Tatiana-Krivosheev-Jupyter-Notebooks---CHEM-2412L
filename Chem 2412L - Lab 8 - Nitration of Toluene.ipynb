{
 "cells": [
  {
   "cell_type": "markdown",
   "metadata": {},
   "source": [
    "# Chem 2412L - Organic Chemistry Laboratory II\n",
    "### Nitration of Toluene"
   ]
  },
  {
   "cell_type": "markdown",
   "metadata": {},
   "source": [
    "#### Student Name: Blake Anderson\n",
    "#### Partner(s): Dr. Sheppard"
   ]
  },
  {
   "cell_type": "markdown",
   "metadata": {},
   "source": [
    "___"
   ]
  },
  {
   "cell_type": "markdown",
   "metadata": {},
   "source": [
    "## Pre-lab Questions"
   ]
  },
  {
   "cell_type": "markdown",
   "metadata": {},
   "source": [
    "1. How will the ratio of nitrotoluene isomers (the products) be determined in this experiment? \n",
    "\n",
    "2. In an aromatic nitration reaction, what is the electrophile that is produced by the reaction of sulfuric acid and nitric acid?\n"
   ]
  },
  {
   "cell_type": "markdown",
   "metadata": {},
   "source": [
    "## Procedures"
   ]
  },
  {
   "cell_type": "markdown",
   "metadata": {},
   "source": [
    "Place 1 mL of concentrated nitric acid in a 25 or 50-mL Erlenmeyer flask. Add 1 mL of concentrated sulfuric acid to the flask. The temperature will rise somewhat; cool the flask in a cold water bath for 1-2 minutes. Using a pipet, add 1 mL of toluene dropwise while swirling the flask (Do this at your bench. Do not add the toluene directly to the flask from the buret dispenser). Pace the addition of the toluene so that it takes 10-15 minutes to add the toluene. The temperature of the flask should not rise above 45C. If necessary, cool the flask in a cold water bath. After the addition of toluene is complete, swirl the flask for 5 minutes, then pour the contents of the flask into 10 mL of water in a separatory funnel. Rinse the flask with 10 mL of ether and add the rinse to the separatory funnel. Gently mix the layers in the separatory funnel and allow them to separate. Remove the aqueous layer and discard. Wash the ether layer with 10 mL of 10% aqueous sodium bicarbonate solution. Remove the aqueous layer and discard. Wash the ether layer with 5 mL of water. Remove the aqueous layer and discard. Drain the ether layer into a small beaker and dry the ether layer over anhydrous sodium sulfate. Remove the drying agent from the solution and evaporate the ether to a volume of 1-2 mL. Determine the IR spectrum of your product mixture. Analyze the ether solution using gas chromatography. Dispose of all waste from this experiment in the appropriate waste containers as directed by your instructor."
   ]
  },
  {
   "cell_type": "markdown",
   "metadata": {},
   "source": [
    "## Report Sheet"
   ]
  },
  {
   "cell_type": "markdown",
   "metadata": {},
   "source": [
    "#### I. Data and Observations"
   ]
  },
  {
   "cell_type": "markdown",
   "metadata": {},
   "source": [
    "Volume of toluene\n",
    "\n",
    "Volume of nitric acid\n",
    "\n",
    "Volume of sulfuric acid\n",
    "\n",
    "Observations (color changes, product appearance, etc.):\n"
   ]
  },
  {
   "cell_type": "markdown",
   "metadata": {},
   "source": [
    "#### II.Reactions"
   ]
  },
  {
   "cell_type": "markdown",
   "metadata": {},
   "source": [
    "*(Draw the reaction used in this experiment. You do not need to show a mechanism.)*\n"
   ]
  },
  {
   "cell_type": "markdown",
   "metadata": {},
   "source": [
    "#### III. Data Analysis"
   ]
  },
  {
   "cell_type": "markdown",
   "metadata": {},
   "source": [
    "1. Attach a copy of your GC to this report. Label each peak on the chromatograph with the structure of the compound giving rise to that peak.\n",
    "\n",
    "2.\tUse the GC to calculate the percentage of each component in your product mixture. Clearly show your work.\n",
    "\n",
    "3. Is your product distribution (calculated in the previous question) what you expected for this reaction? Why or why not?\n",
    "\n",
    "4. Compare your IR of your product mixture to a literature spectrum (use the literature spectrum of the major product of the reaction). What conclusions can you draw about your product? Attach your IR spectrum and the literature spectrum to this report.\n"
   ]
  },
  {
   "cell_type": "markdown",
   "metadata": {},
   "source": [
    "#### IV. Questions"
   ]
  },
  {
   "cell_type": "markdown",
   "metadata": {},
   "source": [
    "1. Which compound in each of the following pairs is more reactive towards aromatic nitration? Explain your answers.\n",
    "    1. phenol or nitrobenzene\n",
    "\n",
    "    2. methyl benzoate or phenol\n",
    "\n",
    "    3. nitrobenzene or methyl benzoate\n",
    "\n",
    "    4. benzene or toluene\n",
    "\n",
    "2. Show all possible mononitration products of toluene. Do you think it would be easy to isolate and identify all of them if each is produced in some amount? Explain.\n",
    "\n",
    "3.\tExplain the order of elution observed from the gas chromatography for this experiment. What property of the product molecules seems to be the most important in determining relative retention time?\n",
    "\n",
    "4.\tDraw a complete mechanism for the formation of the *major product* in this reaction. Include all major resonance structures for your intermediate.\n"
   ]
  },
  {
   "cell_type": "code",
   "execution_count": null,
   "metadata": {
    "collapsed": true
   },
   "outputs": [],
   "source": []
  }
 ],
 "metadata": {
  "kernelspec": {
   "display_name": "Python 3",
   "language": "python",
   "name": "python3"
  },
  "language_info": {
   "codemirror_mode": {
    "name": "ipython",
    "version": 3
   },
   "file_extension": ".py",
   "mimetype": "text/x-python",
   "name": "python",
   "nbconvert_exporter": "python",
   "pygments_lexer": "ipython3",
   "version": "3.4.3"
  }
 },
 "nbformat": 4,
 "nbformat_minor": 0
}
