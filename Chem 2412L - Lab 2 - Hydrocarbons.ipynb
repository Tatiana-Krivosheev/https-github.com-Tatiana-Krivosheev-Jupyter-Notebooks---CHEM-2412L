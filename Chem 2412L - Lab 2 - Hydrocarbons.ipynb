{
 "cells": [
  {
   "cell_type": "markdown",
   "metadata": {},
   "source": [
    "# Chem 2412L - Organic Chemistry Laboratory II\n",
    "### Hydrocarbons"
   ]
  },
  {
   "cell_type": "markdown",
   "metadata": {},
   "source": [
    "#### Student Name: Blake Anderson\n",
    "#### Partner(s): Dr. Sheppard"
   ]
  },
  {
   "cell_type": "markdown",
   "metadata": {},
   "source": [
    "___"
   ]
  },
  {
   "cell_type": "markdown",
   "metadata": {},
   "source": [
    "## Pre-lab Questions"
   ]
  },
  {
   "cell_type": "markdown",
   "metadata": {},
   "source": [
    "1. Read the Properties of Hydrocarbons Prelab Lecture  posted on the [lab webpage](http://www.clayton.edu/faculty/cclower/courses/chem2412l).\n",
    "\n",
    "2. (5 points) Draw products for the following reactions. Be sure to show appropriate stereochemistry and regiochemistry. If no reaction will occur, write “NR.”\n",
    "\n",
    "![Reaction 1](http://localhost:8888/files/Chemistry%20Notebooks/Organic%20Chem%20Notebooks/Chem%202412/Chem%202412L%20-%20Figures%20and%20Illustrations/Chem%202412L%20-%20Lab%202%20-%20Prelab%20-%20Question%202%20-%20Reaction%201.png)\n",
    ">Image\n",
    "\n",
    "![Reaction 2](http://localhost:8888/files/Chemistry%20Notebooks/Organic%20Chem%20Notebooks/Chem%202412/Chem%202412L%20-%20Figures%20and%20Illustrations/Chem%202412L%20-%20Lab%202%20-%20Prelab%20-%20Question%202%20-%20Reaction%202.png)\n",
    ">Image\n",
    "\n",
    "![Reaction 3](http://localhost:8888/files/Chemistry%20Notebooks/Organic%20Chem%20Notebooks/Chem%202412/Chem%202412L%20-%20Figures%20and%20Illustrations/Chem%202412L%20-%20Lab%202%20-%20Prelab%20-%20Question%202%20-%20Reaction%203.png)\n",
    ">Image\n",
    "\n",
    "![Reaction 4](http://localhost:8888/files/Chemistry%20Notebooks/Organic%20Chem%20Notebooks/Chem%202412/Chem%202412L%20-%20Figures%20and%20Illustrations/Chem%202412L%20-%20Lab%202%20-%20Prelab%20-%20Question%202%20-%20Reaction%204.png)\n",
    ">Image\n",
    "\n",
    "![Reaction 5](http://localhost:8888/files/Chemistry%20Notebooks/Organic%20Chem%20Notebooks/Chem%202412/Chem%202412L%20-%20Figures%20and%20Illustrations/Chem%202412L%20-%20Lab%202%20-%20Prelab%20-%20Question%202%20-%20Reaction%205.png)\n",
    ">Image"
   ]
  },
  {
   "cell_type": "raw",
   "metadata": {},
   "source": [
    "# Note 2.1: Answer format.\n",
    "\n",
    "Answers are formatted in block quotes.\n",
    "\n",
    "'>' is used at the begining of a block of text to signify a quote, visually separating the text from the surrounding material. Block quotes are ended with a single space after the quote.\n",
    "\n",
    "What is the sum of three and six?\n",
    "> Nine"
   ]
  },
  {
   "cell_type": "raw",
   "metadata": {},
   "source": [
    "# Note 2.2: Inserting images.\n",
    "\n",
    "![Description of image for programmer](image link \"Floating description for viewer\")"
   ]
  },
  {
   "cell_type": "markdown",
   "metadata": {},
   "source": [
    "## Procedures"
   ]
  },
  {
   "cell_type": "markdown",
   "metadata": {},
   "source": [
    "The following tests will illustrate general properties of hydrocarbons as well as differences in chemical reactivity due to type of hydrocarbon (saturated, unsaturated, or aromatic). Each test will be conducted using cyclohexane, cyclohexene, toluene, and two unknowns. Your goal is to determine the type of hydrocarbon of each unknown. Record your results in your laboratory notebook.\n",
    "\n",
    "1.\t**Solubility**: Place 2 mL of water in a test tube and add 2 or 3 drops of the hydrocarbon to be tested. Shake the mixture to determine whether the hydrocarbon is soluble. Look carefully for a second layer, which may be hard to see. If you are not certain if there is a second layer, add more of the hydrocarbon to the test tube. Keep these samples for the density test.\n",
    "\n",
    "2.\t**Density**: reexamine the mixtures prepared for the solubility test and decide in each case whether the hydrocarbon is more dense or less dense than water.  Once you are finished recording your observations, discard these samples in the non-halogenated organic waste container found in the ventilation hood.\n",
    "\n",
    "3.\t**Flammability**: Place 2 or 3 drops of the pure hydrocarbon on an evaporating dish in the hood and ignite it with a match. Note the nature of the flame (sooty flames are characteristic of unsaturated compounds). When the hydrocarbon has finished burning, clean and dry the evaporating dishes.\n",
    "\n",
    "4.\t**Addition of bromine**: Dissolve 3 or 4 drops of the pure hydrocarbon in 1 mL of methylene chloride in a test tube. Add a few drops of a solution of bromine in methylene chloride while shaking the test tube. The loss of color from the bromine solution indicates the presence of an unsaturated compound. Once you are finished recording your observations, discard these samples in the halogenated organic waste container found in the ventilation hood.\n",
    "\n",
    "5.\t**Reaction with potassium permanganate**: Dissolve 3 or 4 drops of the pure hydrocarbon in 1 mL of acetone in a test tube. Add a few drops of potassium permanganate solution while shaking. The change of color of the potassium permanganate solution indicates the presence of an unsaturated compound. Once you are finished recording your observations, discard these samples in the non-halogenated organic waste container found in the ventilation hood.\n",
    "\n",
    "6.\t**Reaction with sulfuric acid**: Place 1 mL of concentrated sulfuric acid in a test tube. Add 3 or 4 drops of pure hydrocarbon one drop at a time. A reaction is indicated by the dissolution of the hydrocarbon and by a change in color, production of heat, or formation of insoluble material. If no reaction occurs, warm the mixture in a hot water bath, being careful not to evaporate the hydrocarbon. Aromatic hydrocarbons will react with warm sulfuric acid to form a sulfonic acid, which will dissolve.  Once you are finished recording your observations, discard these samples in the non-halogenated organic waste container found in the ventilation hood.\n"
   ]
  },
  {
   "cell_type": "markdown",
   "metadata": {},
   "source": [
    "## Report Sheet"
   ]
  },
  {
   "cell_type": "markdown",
   "metadata": {},
   "source": [
    "#### I. Data and Observations"
   ]
  },
  {
   "cell_type": "markdown",
   "metadata": {},
   "source": [
    "|           |Solubility|Density|Flammability|Br<sub>2</sub>|KMnO<sub>4</sub>|H<sub>2</sub>SO<sub>4</sub>|\n",
    "|:-:        |:-:       |:-:    |:-:         |:-:           |:-:             |:-:                        |\n",
    "|Cyclohexane|          |       |            |              |                |                           |\n",
    "|Cyclohexene|          |       |            |              |                |                           |\n",
    "|Toluene    |          |       |            |              |                |                           |\n",
    "|Unknown #_A|          |       |            |              |                |                           |\n",
    "|Unknown #_B|          |       |            |              |                |                           |"
   ]
  },
  {
   "cell_type": "raw",
   "metadata": {},
   "source": [
    "# Note 2.3: Superscripts and subscripts.\n",
    "\n",
    "This is some <sup>superscript</sup> text.\n",
    "\n",
    "This is some <sub>subscript</sub> text.  "
   ]
  },
  {
   "cell_type": "markdown",
   "metadata": {},
   "source": [
    "#### II. Data Analysis"
   ]
  },
  {
   "cell_type": "markdown",
   "metadata": {},
   "source": [
    "Based of your observations, determine which of the following classifications would best describe each of your unknowns.  Explain why you chose each classification.\n",
    "\n",
    "Possible Classifications:\n",
    "1. alkane/cycloalkane\n",
    "2. alkene/cycloalkene\n",
    "3. aromatic hydrocarbon\n",
    "\n",
    "Unknown #___A; Classification:  \n",
    "Explain:\n",
    "> Explanation\n",
    "\n",
    "Unknwon #___B; Classification:  \n",
    "Explain:\n",
    ">Explanation"
   ]
  },
  {
   "cell_type": "markdown",
   "metadata": {},
   "source": [
    "#### III. Questions"
   ]
  },
  {
   "cell_type": "markdown",
   "metadata": {},
   "source": [
    "1. Considering your results in the solubility tests, what do you conclude about the solubility of hydrocarbons in water? Predict the solubility of gasoline or motor oil in water.\n",
    "> Answer\n",
    "\n",
    "2. Are hydrocarbons less dense or more dense than water? Does this have any practical importance when oil spills occur?\n",
    "> Answer\n",
    "\n",
    "3. Draw reactions (including structures) using 1-butene as the starting material to illustrate the reactions occurring in the bromine, potassium permanganate, and sulfuric acid tests. You do not need to draw a mechanism.\n",
    "> Image\n",
    "\n",
    "4. How could you distinguish the following molecules by a simple chemical test you learned in this experiment?\n",
    "    1. octane from 1-octene\n",
    "> Answer\n",
    "    2. octane from toluene\n",
    "> Answer\n",
    "    3. toluene from 1-octene\n",
    "> Answer\n",
    "\n",
    "5. Draw a balanced reaction (including structures) for the complete combustion of cyclohexane.\n",
    "> Image"
   ]
  },
  {
   "cell_type": "code",
   "execution_count": null,
   "metadata": {
    "collapsed": true
   },
   "outputs": [],
   "source": []
  }
 ],
 "metadata": {
  "kernelspec": {
   "display_name": "Python 3",
   "language": "python",
   "name": "python3"
  },
  "language_info": {
   "codemirror_mode": {
    "name": "ipython",
    "version": 3
   },
   "file_extension": ".py",
   "mimetype": "text/x-python",
   "name": "python",
   "nbconvert_exporter": "python",
   "pygments_lexer": "ipython3",
   "version": "3.4.3"
  }
 },
 "nbformat": 4,
 "nbformat_minor": 0
}
