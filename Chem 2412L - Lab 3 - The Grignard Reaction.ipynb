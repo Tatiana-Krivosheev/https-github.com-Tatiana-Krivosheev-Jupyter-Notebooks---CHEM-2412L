{
 "cells": [
  {
   "cell_type": "markdown",
   "metadata": {},
   "source": [
    "# Chem 2412L - Organic Chemistry Laboratory II\n",
    "### The Grignard Reaction"
   ]
  },
  {
   "cell_type": "markdown",
   "metadata": {},
   "source": [
    "#### Student Name: Blake Anderson\n",
    "#### Partner(s): Dr. Sheppard"
   ]
  },
  {
   "cell_type": "markdown",
   "metadata": {},
   "source": [
    "___"
   ]
  },
  {
   "cell_type": "markdown",
   "metadata": {},
   "source": [
    "## Pre-lab Questions"
   ]
  },
  {
   "cell_type": "markdown",
   "metadata": {},
   "source": [
    "1. Which reacts more readily to form Grignard reagents?\n",
    "    1. Alkyl chlorides  \n",
    "    2. Alkyl bromides\n",
    "\n",
    "2. A Bunsen burner is an acceptable heat source during this reaction.\n",
    "    1. True\n",
    "    2. False\n",
    "\n",
    "3. What is a common solvent for Grignard reactions?\n",
    "\n",
    "4. Draw the reaction (including structures) of butylmagnesium bromide with water.\n",
    "\n",
    "5. Draw the reaction (including structures) of phenylmagnesium bromide with acetone.\n"
   ]
  },
  {
   "cell_type": "markdown",
   "metadata": {},
   "source": [
    "## Procedures\n",
    "\n",
    "**Week 1**:  \n",
    "\n",
    "Be sure that all of the glassware to be used in this experiment (including graduated cylinders) are clean and dry. Be sure to lightly grease all ground glass joints. Clamp a 100-mL single neck round bottom flask fitted with a Claisen connecting tube to a ring stand. Leave room for a water or ice bath under the flask. Do not support the flask on a ring. Place a reflux condenser in the side neck of the Claisen adaptor, and place a separatory funnel in the vertical neck. Fit a drying tube containing calcium chloride to the top of the condenser. Grind 2 g of magnesium turnings in a mortar to provide a fresh surface and place it in the round bottom flask with 15 mL of anhydrous diethyl ether. Reattach the flask to the connecting tube. Use the separatory funnel to add 9 mL of bromobenzene to the flask. Warm the flask gently with warm water or in the palm of your hand until the reaction starts, as indicated by bubbling and turbidity. (If your reaction does not start after a few minutes, it may help to grind the Mg against the flask with a glass stirring rod, or to use a starter solution. Consult your instructor.) As soon as the reaction has started, begin the flow of water through the condenser. Add 25 mL anhydrous ether to the flask through the separatory funnel. Continue to reflux the solution for 20 minutes, swirling the flask occasionally and warming the flask as necessary to keep the reaction going. If the reaction is too vigorous cool the flask in an ice bath, but do not overcool as this can stop the reaction.\n",
    "\n",
    "Mix 5 g methyl benzoate with 15 mL of anhydrous ether and place it in the separatory funnel. Once the formation of the Grignard reagent is complete, cool the flask and its contents briefly in an ice bath. Add the ester solution dropwise while swirling the flask to ensure mixing. If necessary, use the ice bath or adjust the rate of addition of the ester to control the reaction. When the addition is complete, label and store the flask as directed by your instructor.\n",
    "\n",
    "**Week 2**:\n",
    "\n",
    "Pour your reaction mixture (including all solid) from last week into a 250-mL Erlenmeyer flask containing 50 mL of 10% sulfuric acid and approximately 25 g of ice. Rinse the round bottom flask with a small portion of diethyl ether, followed by a small portion of 10% sulfuric acid, and add these rinses to the Erlenmeyer flask. Swirl the mixture well to promote hydrolysis. Pour the solution in a separatory funnel, leaving behind any remaining Mg and ice. Use the separatory funnel to separate the ether layer, then wash the ether layer with 10% sulfuric acid, followed by a second washing with saturated sodium chloride solution. Put the ether layer in a beaker and let it dry over magnesium sulfate. Remove the drying agent, add 15 mL of petroleum ether to the layer, and evaporate the solution slowly on a steam bath until crystallization begins. Cool the mixture on an ice bath to complete crystallization. Collect, dry, and weigh the product. Determine the melting point and IR spectrum for your product. Dispose of all waste from this experiment in the appropriate waste containers as directed by your instructor."
   ]
  },
  {
   "cell_type": "markdown",
   "metadata": {},
   "source": [
    "## Report Sheet"
   ]
  },
  {
   "cell_type": "markdown",
   "metadata": {},
   "source": [
    "#### I. Data and Observations"
   ]
  },
  {
   "cell_type": "markdown",
   "metadata": {},
   "source": [
    "**Preparation of Phenylmagnesium bromide**\n",
    "\n",
    "Volume of bromobenzene\n",
    "\n",
    "Mass of magnesium\n",
    "\n",
    "Observations (color changes, product appearance, etc.):\n",
    "\n",
    "**Synthesis of Triphenylmethanol**\n",
    "\n",
    "Mass of methyl benzoate\n",
    "\n",
    "Mass of triphenylmethanol\n",
    "\n",
    "Melting point of triphenylmethanol\n",
    "\n",
    "Observations (color changes, product appearance, etc.):\n"
   ]
  },
  {
   "cell_type": "raw",
   "metadata": {},
   "source": [
    "# Note 3.1: Numbered and bulleted lists.\n",
    "\n",
    "The begining of a numbered list is signified in mardown with a number (the number 1 by convention) followed by a period. Proceeding items in the list are numbered with arbitrary numbers.\n",
    "1. Bananas\n",
    "2. Cherries\n",
    "3. Apples\n",
    "    1. Granny smith\n",
    "    2. Red delicious\n",
    "4. Watermellons\n",
    "\n",
    "Bulleted lists begin with an asterics.\n",
    "* Physics\n",
    "* Biology\n",
    "* Chemistry\n",
    "* Calculus"
   ]
  },
  {
   "cell_type": "markdown",
   "metadata": {},
   "source": [
    "#### II. Reaction"
   ]
  },
  {
   "cell_type": "markdown",
   "metadata": {},
   "source": [
    "(Draw the reaction used in this experiment. You do not need to show a mechanism.)\n"
   ]
  },
  {
   "cell_type": "markdown",
   "metadata": {},
   "source": [
    "#### III. Data Analysis"
   ]
  },
  {
   "cell_type": "markdown",
   "metadata": {},
   "source": [
    "1. Calculate the theoretical yield of triphenylmethanol. Clearly show your work.\n",
    "\n",
    "2. Calculate the percent yield of triphenylmethanol. Clearly show your work.\n",
    "\n",
    "3. Compare your IR of triphenylmethanol to a literature spectrum. What conclusions can you draw about your product? Attach your IR spectrum and the literature spectrum to this report.\n",
    "\n",
    "4. What is the literature melting point of triphenylmethanol? How did your melting point compare to the literature melting point? What conclusions can you make about the purity of your product based on your melting point data?\n"
   ]
  },
  {
   "cell_type": "raw",
   "metadata": {},
   "source": [
    "# Note 3.2: Inserting Formulas using LaTeX\n",
    "\n",
    "Formulas can be inserted into markdown using LaTeX in one of two ways.\n",
    "\n",
    "\\begin{equation}\n",
    "equation\n",
    "\\end{equation}\n",
    "\n",
    "$equation$  # left \n",
    "or \n",
    "$$equation$$  # centered\n",
    "\n",
    "Refer to the LaTeX manual for assistance in properly formating formulas."
   ]
  },
  {
   "cell_type": "markdown",
   "metadata": {},
   "source": [
    "Attachment 3.1: [Short Math Guide for LaTeX](http://www.ams.org/publications/authors/tex/amslatex \"LaTeX guide by Michael Downes\")  \n",
    "The short math guide for LaTeX can be found at the AMS website under the additional documentation section."
   ]
  },
  {
   "cell_type": "markdown",
   "metadata": {},
   "source": [
    "#### IV. Questions"
   ]
  },
  {
   "cell_type": "markdown",
   "metadata": {},
   "source": [
    "1. Consider the reaction of bromobenzene with magnesium to give phenylmagnesium bromide and its subsequent reaction with benzophenone to give triphenylmethanol. What weight of triphenylmethanol could be prepared if 3.14 g of bromobenzene and 3.80 g of benzophenone are used? Clearly show your work. \n",
    "\n",
    "2. Benzene and biphenyl are two compounds that are often produced as unwanted side-products during Grignard reactions using phenylmagnesium bromide. Write reactions that show the formation of each of these side-products.\n",
    "\n",
    "3. Show one method (using the Grignard reaction) that could be used to prepare each of the following compounds.\n",
    "    1. ![Question 3a](http://localhost:8888/files/Chemistry%20Notebooks/Organic%20Chem%20Notebooks/Chem%202412/Chem%202412L%20-%20Figures%20and%20Illustrations/Chem%202412L%20-%20Lab%203%20-%20IV.%20Question%203a.png) \n",
    "\n",
    "    2. ![Question 3b](http://localhost:8888/files/Chemistry%20Notebooks/Organic%20Chem%20Notebooks/Chem%202412/Chem%202412L%20-%20Figures%20and%20Illustrations/Chem%202412L%20-%20Lab%203%20-%20IV.%20Question%203b.png)\n",
    "\n",
    "    3. ![Question 3c](http://localhost:8888/files/Chemistry%20Notebooks/Organic%20Chem%20Notebooks/Chem%202412/Chem%202412L%20-%20Figures%20and%20Illustrations/Chem%202412L%20-%20Lab%203%20-%20IV.%20Question%203c.png)\n",
    "    \n"
   ]
  },
  {
   "cell_type": "code",
   "execution_count": null,
   "metadata": {
    "collapsed": true
   },
   "outputs": [],
   "source": []
  }
 ],
 "metadata": {
  "kernelspec": {
   "display_name": "Python 3",
   "language": "python",
   "name": "python3"
  },
  "language_info": {
   "codemirror_mode": {
    "name": "ipython",
    "version": 3
   },
   "file_extension": ".py",
   "mimetype": "text/x-python",
   "name": "python",
   "nbconvert_exporter": "python",
   "pygments_lexer": "ipython3",
   "version": "3.4.3"
  }
 },
 "nbformat": 4,
 "nbformat_minor": 0
}
