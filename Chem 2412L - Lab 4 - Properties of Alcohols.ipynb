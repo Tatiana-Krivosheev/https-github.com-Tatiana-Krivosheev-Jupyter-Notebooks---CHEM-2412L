{
 "cells": [
  {
   "cell_type": "markdown",
   "metadata": {},
   "source": [
    "# Chem 2412L - Organic Chemistry Laboratory II\n",
    "### Properties of Alcohols"
   ]
  },
  {
   "cell_type": "markdown",
   "metadata": {},
   "source": [
    "#### Student Name: Blake Anderson\n",
    "#### Partner(s): Dr. Sheppard"
   ]
  },
  {
   "cell_type": "markdown",
   "metadata": {},
   "source": [
    "___"
   ]
  },
  {
   "cell_type": "markdown",
   "metadata": {},
   "source": [
    "## Pre-lab Questions"
   ]
  },
  {
   "cell_type": "markdown",
   "metadata": {},
   "source": [
    "1.\tWhat are the components of the Lucas reagent? \n",
    "\n",
    "2.\tWhat should you do if you spill one of the corrosive materials used in this lab on your skin?\n",
    "\n",
    "3.\tDraw the structure of the organic product for the following reaction:\n",
    "![Question 3](http://localhost:8888/files/Chemistry%20Notebooks/Organic%20Chem%20Notebooks/Chem%202412/Chem%202412L%20-%20Figures%20and%20Illustrations/Chem%202412L%20-%20Lab%204%20-%20Prelab%20-%20Question%203%20-%20Reaction%201.png)\n",
    "\n",
    "4.\tThe mechanism for the reaction in question 2 is ___. (Hint: think about which types of alcohols should react fastest in this reaction and compare that to what you know about each of the mechanisms listed below).\n",
    "    1. SN1\n",
    "    2. SN2\n",
    "    3. E1\n",
    "    4. E2"
   ]
  },
  {
   "cell_type": "markdown",
   "metadata": {},
   "source": [
    "## Procedures"
   ]
  },
  {
   "cell_type": "markdown",
   "metadata": {},
   "source": [
    "The following tests will illustrate general properties of alcohols as well as differences in chemical reactivity due to type of alcohol (primary, secondary, or tertiary). Each test will be conducted using several known alcohols. You will also use these tests to investigate an unknown alcohol. Record your results in your laboratory notebook.\n",
    "\n",
    "\n",
    "**Solubility in water**\n",
    "\n",
    "Alcohols to be tested: ethanol, 2-propanol, 1-butanol, and cyclohexanol  \n",
    "\n",
    "Procedure: Place 2 mL of water in a test tube. Add 10 drops of alcohol while shaking the tube to mix the alcohol and water. Note how many drops must be added until the alcohol is no longer soluble. Record your results as very soluble (6-10 drops), slightly soluble (2-5 drops) or insoluble (1 drop). \n",
    "\n",
    "**Lucas test**\n",
    "\n",
    "Alcohols to be tested: 1-butanol, 2-butanol, 2-methyl-2-propanol, and your unknown  \n",
    "\n",
    "Procedure: \n",
    "1. Place 2 mL of the Lucas reagent in a test tube. Add 4 drops of alcohol, and shake the tube to mix the materials. Note the time required for the mixture to become cloudy or to separate into two layers. \n",
    "2. Mix 2 mL of concentrated hydrochloric acid with 4 drops 2-methyl-2-propanol in a test tube without adding any Lucas reagent. Record your observations.\n",
    "\n",
    "**Oxidation using chromic acid**\n",
    "\n",
    "Alcohols to be tested: 1-butanol, 2-butanol, 2-methyl-2-propanol, and your unknown \n",
    "\n",
    "Procedure: Place 1 mL of acetone in a test tube. Add 1 drop of alcohol, followed by 2 drops of the chromic acid reagent. Note whether the mixture remains clear and orange, or turns turbid blue-green. Make the decision within 5 seconds of adding the chromic acid reagent. \n",
    "\n",
    "**Ester formation**\n",
    "\n",
    "Procedure:\n",
    "1. Mix 5 drops of ethanol and 5 drops of glacial acetic acid in a clean test tube. Add 1 drop of concentrated sulfuric acid, warm the mixture gently for 3-4 minutes in a hot water bath, then add 2 mL of cold water. Note the odor of the mixture. If you have trouble detecting the odor of the ester, try adding a small amount of dilute NaOH.\n",
    "2. Place 5 drops of 1-butanol and 5 drops of acetic anhydride in a clean test tube. Stir well and warm briefly in a hot water bath. Add 2 mL of cold water, make the mixture slightly basic with dilute NaOH, and note the odor.\n",
    "\n",
    "Dispose of all waste from this experiment in the appropriate waste containers as directed by your instructor."
   ]
  },
  {
   "cell_type": "markdown",
   "metadata": {},
   "source": [
    "## Report Sheet"
   ]
  },
  {
   "cell_type": "markdown",
   "metadata": {},
   "source": [
    "#### I. Data and Observations"
   ]
  },
  {
   "cell_type": "markdown",
   "metadata": {},
   "source": [
    "Unknown number:\n",
    "    \n",
    "**Solubility in Water**\n",
    "\n",
    "Alcohol     |Observations\n",
    ":-:         |:-:\n",
    "Ethanol     |\n",
    "2-Propanol  |\n",
    "1-Butanol   |\n",
    "Cyclohexanol|\n",
    "\n",
    "**Lucas Test**\n",
    "\n",
    "Alcohol     |Observations\n",
    ":-:         |:-:\n",
    "Ethanol     |\n",
    "2-Propanol  |\n",
    "1-Butanol   |\n",
    "Cyclohexanol|\n",
    "\n",
    "**Oxidation using Chromic Acid**\n",
    "\n",
    "Alcohol     |Observations\n",
    ":-:         |:-:\n",
    "Ethanol     |\n",
    "2-Propanol  |\n",
    "1-Butanol   |\n",
    "Cyclohexanol|\n",
    "\n",
    "**Ester Formation**\n",
    "\n",
    "Alcohol     |Observations\n",
    ":-:         |:-:\n",
    "Ethanol     |\n",
    "2-Propanol  |\n",
    "1-Butanol   |\n",
    "Cyclohexanol|"
   ]
  },
  {
   "cell_type": "markdown",
   "metadata": {},
   "source": [
    "#### II. Structures and Reactions"
   ]
  },
  {
   "cell_type": "markdown",
   "metadata": {},
   "source": [
    "1. Draw the structures of the alcohols used in this experiment.\n",
    "\n",
    "2. Draw the reaction (including structures) of 2-butanol with the chromic acid reagent.\n",
    "\n",
    "3. Draw the reaction (including structures) of ethanol with acetic acid.\n",
    "\n",
    "4. Draw the reaction (including structures) of 1-butanol and acetic anhydride.\n"
   ]
  },
  {
   "cell_type": "markdown",
   "metadata": {},
   "source": [
    "#### III. Data Analysis"
   ]
  },
  {
   "cell_type": "markdown",
   "metadata": {},
   "source": [
    "1. Based on your observations, what conclusions can you make about each of the following:\n",
    "    1. the relationship between alcohol structure and solubility\n",
    "\n",
    "    2. the rate with which primary, secondary, and tertiary alcohols undergo substitution using the Lucas reagent\n",
    "\n",
    "    3. the oxidation of primary, secondary, and tertiary alcohols\n",
    "\n",
    "    4. the structure of your unknown compound\n"
   ]
  },
  {
   "cell_type": "markdown",
   "metadata": {},
   "source": [
    "#### IV. Questions"
   ]
  },
  {
   "cell_type": "markdown",
   "metadata": {},
   "source": [
    "1. Why does the length of the carbon chain in an alcohol affect its solubility in water?\n",
    "\n",
    "2. Do primary or tertiary alcohols react more rapidly with the Lucas reagent? Why? \n",
    "\n",
    "3. Which of the following alcohols would not be oxidized by chromic acid reagent within 5 seconds: 1-pentanol, cyclohexanol, 2-methyl-1-propanol, 2-methyl-2-butanol? \n",
    "\n",
    "4. Using the test described in this experiment, how could you distinguish between the following pairs of compounds? Tell what regent or test your would use and what you would observe.\n",
    "    1. 1-butanol and 2-butanol\n",
    "\n",
    "    2. isobutyl alcohol and tert-butyl alcohol \n",
    "\n",
    "    3. 1-propanol and 1-heptanol\n",
    "\n",
    "    4. cyclohexanol and cyclohexane\n"
   ]
  },
  {
   "cell_type": "code",
   "execution_count": null,
   "metadata": {
    "collapsed": true
   },
   "outputs": [],
   "source": []
  }
 ],
 "metadata": {
  "kernelspec": {
   "display_name": "Python 3",
   "language": "python",
   "name": "python3"
  },
  "language_info": {
   "codemirror_mode": {
    "name": "ipython",
    "version": 3
   },
   "file_extension": ".py",
   "mimetype": "text/x-python",
   "name": "python",
   "nbconvert_exporter": "python",
   "pygments_lexer": "ipython3",
   "version": "3.4.3"
  }
 },
 "nbformat": 4,
 "nbformat_minor": 0
}
